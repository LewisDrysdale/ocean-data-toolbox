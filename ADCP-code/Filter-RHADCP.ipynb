{
 "cells": [
  {
   "cell_type": "code",
   "execution_count": null,
   "id": "caf29316-2fd5-48fd-a808-db243e6d2f5f",
   "metadata": {},
   "outputs": [],
   "source": [
    "import xarray as xr\n",
    "from scipy.signal import butter, filtfilt\n",
    "\n",
    "# load \n",
    "root_dir=os.path.join('x:/Marphys_Archive','Data','OSNAP','RHADCP','RHADCP_S55_data_JC238','S200044A008_RHADCP_2020')\n",
    "## inpaths\n",
    "infile=os.path.join(root_dir,\"RHADCP_S55_data_JC238.nc\")\n",
    "ds=xr.open_dataset(infile)\n",
    "data = ds\n",
    "\n",
    "def butter_lowpass_filter(data, lowcut, fs, order=4):\n",
    "    nyq = 0.5 * fs\n",
    "    low = lowcut / nyq\n",
    "    b, a = butter(order, low, btype='low')\n",
    "    y = filtfilt(b, a, data,method='gust')\n",
    "    return y\n",
    "\n",
    "\n",
    "def lazy_butter_lp_filter(data, lowcut, fs):\n",
    "    y = xr.apply_ufunc(\n",
    "        butter_lowpass_filter,\n",
    "        data, lowcut, fs,\n",
    "        input_core_dims=[[],[],[]],\n",
    "        output_core_dims=[[]],\n",
    "        dask='parallelized')\n",
    "    return y\n",
    "\n",
    "\n",
    "#low pass filter\n",
    "filter_length = 48; # 48 hours \n",
    "dt = 0.5 # every 0.5 hours\n",
    "fs = 1/dt # sample rate (1/hour)\n",
    "lowcut = 1/filter_length # cut off frequency\n",
    "\n",
    "\n",
    "\n",
    "with xr.set_options(keep_attrs=True):\n",
    "    ds_48hr = lazy_butter_lp_filter(data,lowcut,fs) "
   ]
  }
 ],
 "metadata": {
  "kernelspec": {
   "display_name": "Python 3 (ipykernel)",
   "language": "python",
   "name": "python3"
  },
  "language_info": {
   "codemirror_mode": {
    "name": "ipython",
    "version": 3
   },
   "file_extension": ".py",
   "mimetype": "text/x-python",
   "name": "python",
   "nbconvert_exporter": "python",
   "pygments_lexer": "ipython3",
   "version": "3.10.9"
  }
 },
 "nbformat": 4,
 "nbformat_minor": 5
}
