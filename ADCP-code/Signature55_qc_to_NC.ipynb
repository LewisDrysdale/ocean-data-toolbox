{
 "cells": [
  {
   "cell_type": "code",
   "execution_count": 1,
   "id": "employed-cache",
   "metadata": {},
   "outputs": [],
   "source": [
    "import pandas as pd\n",
    "import os\n",
    "import numpy as np\n",
    "import matplotlib.pyplot as plt\n",
    "import xarray as xr\n",
    "import datetime\n",
    "from datetime import date"
   ]
  },
  {
   "cell_type": "code",
   "execution_count": 2,
   "id": "supposed-kitty",
   "metadata": {},
   "outputs": [
    {
     "name": "stdout",
     "output_type": "stream",
     "text": [
      "[X:\\Marphys_Archive\\Data\\OSNAP\\RHADCP\\RHADCP_S55_data_JC238\\S200044A008_RHADCP_2020\\S200044A008_RHADCP_2020_A0.prf]\n",
      "---------------------------------------------------------------------\n",
      "Number of measurements                30863\n",
      "Number of checksum errors             0\n",
      "Time of first measurement             15/10/2020 11:30:01.001\n",
      "Time of last measurement              20/07/2022 10:30:55.001\n",
      "\n",
      "Hardware configuration\n",
      "---------------------------------------------------------------------\n",
      "Instrument name                       Signature55\n",
      "Serial number                         200044\n",
      "Head frequency                        55 kHz\n",
      "Firmware version                      169.2211_4\n",
      "Pressure sensor                       YES\n",
      "Compass                               YES\n",
      "Tilt sensor                           YES\n",
      "Temperature sensor                    YES\n",
      "Number of head beams                  3\n",
      "\n",
      "Deployment configuration\n",
      "---------------------------------------------------------------------\n",
      "Sound speed                           1500 m/s\n",
      "Salinity                              35.0 ppt\n",
      "Frequency                             55 kHz\n",
      "Number of beams                       3  (0)\n",
      "Blanking distance                     2.00 m\n",
      "Number of cells                       56\n",
      "Cell size                             20.00 m\n",
      "Multiplexing                          ON\n",
      "Long range mode                       ON\n",
      "Power level                           -2 dB\n",
      "Number of pings                       10\n",
      "Measurement interval                  1800 sec\n",
      "Average interval                      60 sec\n",
      "Coordinate system                     ENU\n",
      "Velocity range                        1.00 m/s\n",
      "\n",
      "\n",
      "Current Data QC settings\n",
      "---------------------------------------------------------------------\n",
      "Low signal SNR threshold              3.0 dB\n",
      "Sidelobe rejection                    90.0% - BOTTOM\n",
      "Beam rejection                        Use all beams\n",
      "Remove tilt effects                   DISABLED\n",
      "Compass offset                        0.0 deg\n",
      "Pressure Offset                       0.0 dbar\n",
      "Velocity variations rejection         5 #Std\n",
      "Echo spikes rejection                 70.0 dB\n",
      "Correlation threshold                 50 %\n",
      "\n",
      "Data file format\n",
      "---------------------------------------------------------------------\n",
      "[X:\\Marphys_Archive\\Data\\OSNAP\\RHADCP\\RHADCP_S55_data_JC238\\S200044A008_RHADCP_2020\\S200044A008_RHADCP_2020_A0.dat]\n",
      "Header...\n",
      " 1   Month                            (1-12)\n",
      " 2   Day                              (1-31)\n",
      " 3   Year\n",
      " 4   Hour                             (0-23)\n",
      " 5   Minute                           (0-59)\n",
      " 6   Second                           (0-59)\n",
      " 7   Error code\n",
      " 8   Status code\n",
      " 9   Battery voltage                  (V)\n",
      "10   Soundspeed                       (m/s)\n",
      "11   Heading                          (degrees)\n",
      "12   Pitch                            (degrees)\n",
      "13   Roll                             (degrees)\n",
      "14   Pressure                         (dbar)\n",
      "15   Temperature                      (degrees C)\n",
      "16   Analog input 1\n",
      "17   Analog input 2\n",
      "18   Number of beams\n",
      "19   Number of cells\n",
      "Velocity profile...\n",
      " 1   Cell number\n",
      " 2   Cell position                    (m)\n",
      " 3   Velocity (Beam1|X|East)          (m/s)\n",
      " 4   Velocity (Beam2|Y|North)         (m/s)\n",
      " 5   Velocity (Beam3|Z|Up)            (m/s)\n",
      " 6   Velocity (Beam4|Z2|Up2)          (m/s)\n",
      " 7   Amplitude (Beam1)                (counts)\n",
      " 8   Amplitude (Beam2)                (counts)\n",
      " 9   Amplitude (Beam3)                (counts)\n",
      "10   Amplitude (Beam4)                (counts)\n",
      "11   Correlation (Beam1)              (%)\n",
      "12   Correlation (Beam2)              (%)\n",
      "13   Correlation (Beam3)              (%)\n",
      "14   Correlation (Beam4)              (%)\n",
      "15   Speed                            (m/s)\n",
      "16   Direction                        (degrees)\n",
      " ...repeated for all cells in profile.\n"
     ]
    }
   ],
   "source": [
    "file=os.path.join('x:/Marphys_Archive','Data','OSNAP','RHADCP','RHADCP_S55_data_JC238','S200044A008_RHADCP_2020','S200044A008_RHADCP_2020_A0.whr')\n",
    "#  extract the header data\n",
    "with open(file) as file:\n",
    "    for line in file:\n",
    "        print(line.rstrip())"
   ]
  },
  {
   "cell_type": "code",
   "execution_count": 3,
   "id": "continuous-bonus",
   "metadata": {},
   "outputs": [
    {
     "data": {
      "text/plain": [
       "'x:/Marphys_Archive\\\\Data\\\\OSNAP\\\\RHADCP\\\\RHADCP_S55_data_JC238\\\\S200044A008_RHADCP_2020\\\\S200044A008_RHADCP_2020_A0_p.dat'"
      ]
     },
     "execution_count": 3,
     "metadata": {},
     "output_type": "execute_result"
    }
   ],
   "source": [
    "file=os.path.join('x:/Marphys_Archive','Data','OSNAP','RHADCP','RHADCP_S55_data_JC238','S200044A008_RHADCP_2020','S200044A008_RHADCP_2020_A0_p.dat')\n",
    "file"
   ]
  },
  {
   "cell_type": "code",
   "execution_count": 4,
   "id": "matched-halifax",
   "metadata": {},
   "outputs": [],
   "source": [
    "#  extract the header from each ensemble period\n",
    "with open(file) as f:\n",
    "    lines = f.readlines()\n",
    "desired_lines = lines[0:1759135:57]\n",
    "\n",
    "#  print to file then read again bu tis time concatenate the times\n",
    "with open(\"header.txt\", \"w\") as f:\n",
    "    f.writelines(desired_lines)\n",
    "    "
   ]
  },
  {
   "cell_type": "code",
   "execution_count": 5,
   "id": "neither-chair",
   "metadata": {},
   "outputs": [],
   "source": [
    "# Month  Day Year Hour Minute Secon\n",
    "timestamp=[]\n",
    "with open('header.txt') as f:\n",
    "    lines = f.readlines()       \n",
    "    for x in lines:\n",
    "            y=int(x.split()[2])\n",
    "            m=int(x.split()[0])\n",
    "            d=int(x.split()[1])\n",
    "            h=int(x.split()[3])\n",
    "            mn=int(x.split()[4])\n",
    "            s=int(x.split()[5])\n",
    "            d=datetime.datetime(y,m,d,h,mn,s)\n",
    "            time=d.isoformat()\n",
    "            timestamp.append(time)"
   ]
  },
  {
   "cell_type": "code",
   "execution_count": 13,
   "id": "signal-locator",
   "metadata": {},
   "outputs": [
    {
     "ename": "KeyboardInterrupt",
     "evalue": "",
     "output_type": "error",
     "traceback": [
      "\u001b[1;31m---------------------------------------------------------------------------\u001b[0m",
      "\u001b[1;31mKeyboardInterrupt\u001b[0m                         Traceback (most recent call last)",
      "\u001b[1;32m<ipython-input-13-c42112a174ea>\u001b[0m in \u001b[0;36m<module>\u001b[1;34m\u001b[0m\n\u001b[0;32m     40\u001b[0m         \u001b[0mvel_east\u001b[0m\u001b[1;33m=\u001b[0m\u001b[0mnp\u001b[0m\u001b[1;33m.\u001b[0m\u001b[0mc_\u001b[0m\u001b[1;33m[\u001b[0m \u001b[0mvel_east\u001b[0m\u001b[1;33m,\u001b[0m \u001b[0mvelex\u001b[0m \u001b[1;33m]\u001b[0m\u001b[1;33m\u001b[0m\u001b[1;33m\u001b[0m\u001b[0m\n\u001b[0;32m     41\u001b[0m         \u001b[0mvel_north\u001b[0m\u001b[1;33m=\u001b[0m\u001b[0mnp\u001b[0m\u001b[1;33m.\u001b[0m\u001b[0mc_\u001b[0m\u001b[1;33m[\u001b[0m \u001b[0mvel_north\u001b[0m\u001b[1;33m,\u001b[0m \u001b[0mvelnx\u001b[0m \u001b[1;33m]\u001b[0m\u001b[1;33m\u001b[0m\u001b[1;33m\u001b[0m\u001b[0m\n\u001b[1;32m---> 42\u001b[1;33m         \u001b[0mvel_up\u001b[0m\u001b[1;33m=\u001b[0m\u001b[0mnp\u001b[0m\u001b[1;33m.\u001b[0m\u001b[0mc_\u001b[0m\u001b[1;33m[\u001b[0m \u001b[0mvel_up\u001b[0m\u001b[1;33m,\u001b[0m \u001b[0mvelux\u001b[0m \u001b[1;33m]\u001b[0m\u001b[1;33m\u001b[0m\u001b[1;33m\u001b[0m\u001b[0m\n\u001b[0m\u001b[0;32m     43\u001b[0m \u001b[1;33m\u001b[0m\u001b[0m\n\u001b[0;32m     44\u001b[0m \u001b[1;33m\u001b[0m\u001b[0m\n",
      "\u001b[1;32m~\\Miniconda3\\lib\\site-packages\\numpy\\lib\\index_tricks.py\u001b[0m in \u001b[0;36m__getitem__\u001b[1;34m(self, key)\u001b[0m\n\u001b[0;32m    411\u001b[0m                 \u001b[0mobjs\u001b[0m\u001b[1;33m[\u001b[0m\u001b[0mk\u001b[0m\u001b[1;33m]\u001b[0m \u001b[1;33m=\u001b[0m \u001b[0mobjs\u001b[0m\u001b[1;33m[\u001b[0m\u001b[0mk\u001b[0m\u001b[1;33m]\u001b[0m\u001b[1;33m.\u001b[0m\u001b[0mastype\u001b[0m\u001b[1;33m(\u001b[0m\u001b[0mfinal_dtype\u001b[0m\u001b[1;33m)\u001b[0m\u001b[1;33m\u001b[0m\u001b[1;33m\u001b[0m\u001b[0m\n\u001b[0;32m    412\u001b[0m \u001b[1;33m\u001b[0m\u001b[0m\n\u001b[1;32m--> 413\u001b[1;33m         \u001b[0mres\u001b[0m \u001b[1;33m=\u001b[0m \u001b[0mself\u001b[0m\u001b[1;33m.\u001b[0m\u001b[0mconcatenate\u001b[0m\u001b[1;33m(\u001b[0m\u001b[0mtuple\u001b[0m\u001b[1;33m(\u001b[0m\u001b[0mobjs\u001b[0m\u001b[1;33m)\u001b[0m\u001b[1;33m,\u001b[0m \u001b[0maxis\u001b[0m\u001b[1;33m=\u001b[0m\u001b[0maxis\u001b[0m\u001b[1;33m)\u001b[0m\u001b[1;33m\u001b[0m\u001b[1;33m\u001b[0m\u001b[0m\n\u001b[0m\u001b[0;32m    414\u001b[0m \u001b[1;33m\u001b[0m\u001b[0m\n\u001b[0;32m    415\u001b[0m         \u001b[1;32mif\u001b[0m \u001b[0mmatrix\u001b[0m\u001b[1;33m:\u001b[0m\u001b[1;33m\u001b[0m\u001b[1;33m\u001b[0m\u001b[0m\n",
      "\u001b[1;32m<__array_function__ internals>\u001b[0m in \u001b[0;36mconcatenate\u001b[1;34m(*args, **kwargs)\u001b[0m\n",
      "\u001b[1;31mKeyboardInterrupt\u001b[0m: "
     ]
    }
   ],
   "source": [
    "with open(file) as f:\n",
    "    lines = f.readlines()\n",
    "    \n",
    "start=1\n",
    "stop=1\n",
    "while stop<1759192:\n",
    "    stop=start+56\n",
    "    templines=lines[start:stop]\n",
    "    start=stop+1\n",
    "    templines\n",
    "    if start==58:\n",
    "        # get bin number coordinate\n",
    "        bin=[]\n",
    "        for x in templines:\n",
    "            bin.append(x.split()[0])\n",
    "        bin_num=np.array([int(x) for x in bin])\n",
    "        \n",
    "        # get first velocity measurement\n",
    "        vele=[]\n",
    "        veln=[]\n",
    "        velu=[]\n",
    "        for x in templines:\n",
    "            vele.append(x.split()[2])\n",
    "            veln.append(x.split()[3])\n",
    "            velu.append(x.split()[4])\n",
    "        vel_east=np.array([int(float(x)) for x in vele])\n",
    "        vel_north=np.array([int(float(x)) for x in veln])\n",
    "        vel_up=np.array([int(float(x)) for x in velu])\n",
    "    else:\n",
    "        vele=[]\n",
    "        veln=[]\n",
    "        velu=[]\n",
    "        for x in templines:\n",
    "            vele.append(x.split()[2])\n",
    "            veln.append(x.split()[3])\n",
    "            velu.append(x.split()[4])\n",
    "        velex=np.array([int(float(x)) for x in vele])        \n",
    "        velnx=np.array([int(float(x)) for x in veln])        \n",
    "        velux=np.array([int(float(x)) for x in velu])        \n",
    "        vel_east=np.c_[ vel_east, velex ]          \n",
    "        vel_north=np.c_[ vel_north, velnx ]          \n",
    "        vel_up=np.c_[ vel_up, velux ]  \n",
    "        \n",
    "        "
   ]
  },
  {
   "cell_type": "code",
   "execution_count": 12,
   "id": "rational-crossing",
   "metadata": {},
   "outputs": [
    {
     "ename": "ValueError",
     "evalue": "conflicting sizes for dimension 'time': length 30863 on 'time' and length 3088 on 'velocity_east'",
     "output_type": "error",
     "traceback": [
      "\u001b[1;31m---------------------------------------------------------------------------\u001b[0m",
      "\u001b[1;31mValueError\u001b[0m                                Traceback (most recent call last)",
      "\u001b[1;32m<ipython-input-12-be4812a97dde>\u001b[0m in \u001b[0;36m<module>\u001b[1;34m\u001b[0m\n\u001b[1;32m----> 1\u001b[1;33m ds = xr.Dataset(\n\u001b[0m\u001b[0;32m      2\u001b[0m     {\"velocity_east\": ((\"bin\", \"time\"), vel_east),\n\u001b[0;32m      3\u001b[0m         \u001b[1;34m\"velocity_north\"\u001b[0m\u001b[1;33m:\u001b[0m \u001b[1;33m(\u001b[0m\u001b[1;33m(\u001b[0m\u001b[1;34m\"bin\"\u001b[0m\u001b[1;33m,\u001b[0m \u001b[1;34m\"time\"\u001b[0m\u001b[1;33m)\u001b[0m\u001b[1;33m,\u001b[0m \u001b[0mvel_north\u001b[0m\u001b[1;33m)\u001b[0m\u001b[1;33m,\u001b[0m\u001b[1;33m\u001b[0m\u001b[1;33m\u001b[0m\u001b[0m\n\u001b[0;32m      4\u001b[0m         \u001b[1;34m\"velocity_up\"\u001b[0m\u001b[1;33m:\u001b[0m \u001b[1;33m(\u001b[0m\u001b[1;33m(\u001b[0m\u001b[1;34m\"bin\"\u001b[0m\u001b[1;33m,\u001b[0m \u001b[1;34m\"time\"\u001b[0m\u001b[1;33m)\u001b[0m\u001b[1;33m,\u001b[0m \u001b[0mvel_up\u001b[0m\u001b[1;33m)\u001b[0m\u001b[1;33m\u001b[0m\u001b[1;33m\u001b[0m\u001b[0m\n\u001b[0;32m      5\u001b[0m     },\n",
      "\u001b[1;32m~\\Miniconda3\\lib\\site-packages\\xarray\\core\\dataset.py\u001b[0m in \u001b[0;36m__init__\u001b[1;34m(self, data_vars, coords, attrs)\u001b[0m\n\u001b[0;32m    685\u001b[0m             \u001b[0mcoords\u001b[0m \u001b[1;33m=\u001b[0m \u001b[0mcoords\u001b[0m\u001b[1;33m.\u001b[0m\u001b[0mvariables\u001b[0m\u001b[1;33m\u001b[0m\u001b[1;33m\u001b[0m\u001b[0m\n\u001b[0;32m    686\u001b[0m \u001b[1;33m\u001b[0m\u001b[0m\n\u001b[1;32m--> 687\u001b[1;33m         variables, coord_names, dims, indexes, _ = merge_data_and_coords(\n\u001b[0m\u001b[0;32m    688\u001b[0m             \u001b[0mdata_vars\u001b[0m\u001b[1;33m,\u001b[0m \u001b[0mcoords\u001b[0m\u001b[1;33m,\u001b[0m \u001b[0mcompat\u001b[0m\u001b[1;33m=\u001b[0m\u001b[1;34m\"broadcast_equals\"\u001b[0m\u001b[1;33m\u001b[0m\u001b[1;33m\u001b[0m\u001b[0m\n\u001b[0;32m    689\u001b[0m         )\n",
      "\u001b[1;32m~\\Miniconda3\\lib\\site-packages\\xarray\\core\\merge.py\u001b[0m in \u001b[0;36mmerge_data_and_coords\u001b[1;34m(data, coords, compat, join)\u001b[0m\n\u001b[0;32m    465\u001b[0m     \u001b[0mexplicit_coords\u001b[0m \u001b[1;33m=\u001b[0m \u001b[0mcoords\u001b[0m\u001b[1;33m.\u001b[0m\u001b[0mkeys\u001b[0m\u001b[1;33m(\u001b[0m\u001b[1;33m)\u001b[0m\u001b[1;33m\u001b[0m\u001b[1;33m\u001b[0m\u001b[0m\n\u001b[0;32m    466\u001b[0m     \u001b[0mindexes\u001b[0m \u001b[1;33m=\u001b[0m \u001b[0mdict\u001b[0m\u001b[1;33m(\u001b[0m\u001b[0m_extract_indexes_from_coords\u001b[0m\u001b[1;33m(\u001b[0m\u001b[0mcoords\u001b[0m\u001b[1;33m)\u001b[0m\u001b[1;33m)\u001b[0m\u001b[1;33m\u001b[0m\u001b[1;33m\u001b[0m\u001b[0m\n\u001b[1;32m--> 467\u001b[1;33m     return merge_core(\n\u001b[0m\u001b[0;32m    468\u001b[0m         \u001b[0mobjects\u001b[0m\u001b[1;33m,\u001b[0m \u001b[0mcompat\u001b[0m\u001b[1;33m,\u001b[0m \u001b[0mjoin\u001b[0m\u001b[1;33m,\u001b[0m \u001b[0mexplicit_coords\u001b[0m\u001b[1;33m=\u001b[0m\u001b[0mexplicit_coords\u001b[0m\u001b[1;33m,\u001b[0m \u001b[0mindexes\u001b[0m\u001b[1;33m=\u001b[0m\u001b[0mindexes\u001b[0m\u001b[1;33m\u001b[0m\u001b[1;33m\u001b[0m\u001b[0m\n\u001b[0;32m    469\u001b[0m     )\n",
      "\u001b[1;32m~\\Miniconda3\\lib\\site-packages\\xarray\\core\\merge.py\u001b[0m in \u001b[0;36mmerge_core\u001b[1;34m(objects, compat, join, combine_attrs, priority_arg, explicit_coords, indexes, fill_value)\u001b[0m\n\u001b[0;32m    617\u001b[0m     \u001b[0massert_unique_multiindex_level_names\u001b[0m\u001b[1;33m(\u001b[0m\u001b[0mvariables\u001b[0m\u001b[1;33m)\u001b[0m\u001b[1;33m\u001b[0m\u001b[1;33m\u001b[0m\u001b[0m\n\u001b[0;32m    618\u001b[0m \u001b[1;33m\u001b[0m\u001b[0m\n\u001b[1;32m--> 619\u001b[1;33m     \u001b[0mdims\u001b[0m \u001b[1;33m=\u001b[0m \u001b[0mcalculate_dimensions\u001b[0m\u001b[1;33m(\u001b[0m\u001b[0mvariables\u001b[0m\u001b[1;33m)\u001b[0m\u001b[1;33m\u001b[0m\u001b[1;33m\u001b[0m\u001b[0m\n\u001b[0m\u001b[0;32m    620\u001b[0m \u001b[1;33m\u001b[0m\u001b[0m\n\u001b[0;32m    621\u001b[0m     \u001b[0mcoord_names\u001b[0m\u001b[1;33m,\u001b[0m \u001b[0mnoncoord_names\u001b[0m \u001b[1;33m=\u001b[0m \u001b[0mdetermine_coords\u001b[0m\u001b[1;33m(\u001b[0m\u001b[0mcoerced\u001b[0m\u001b[1;33m)\u001b[0m\u001b[1;33m\u001b[0m\u001b[1;33m\u001b[0m\u001b[0m\n",
      "\u001b[1;32m~\\Miniconda3\\lib\\site-packages\\xarray\\core\\dataset.py\u001b[0m in \u001b[0;36mcalculate_dimensions\u001b[1;34m(variables)\u001b[0m\n\u001b[0;32m    204\u001b[0m                 \u001b[0mlast_used\u001b[0m\u001b[1;33m[\u001b[0m\u001b[0mdim\u001b[0m\u001b[1;33m]\u001b[0m \u001b[1;33m=\u001b[0m \u001b[0mk\u001b[0m\u001b[1;33m\u001b[0m\u001b[1;33m\u001b[0m\u001b[0m\n\u001b[0;32m    205\u001b[0m             \u001b[1;32melif\u001b[0m \u001b[0mdims\u001b[0m\u001b[1;33m[\u001b[0m\u001b[0mdim\u001b[0m\u001b[1;33m]\u001b[0m \u001b[1;33m!=\u001b[0m \u001b[0msize\u001b[0m\u001b[1;33m:\u001b[0m\u001b[1;33m\u001b[0m\u001b[1;33m\u001b[0m\u001b[0m\n\u001b[1;32m--> 206\u001b[1;33m                 raise ValueError(\n\u001b[0m\u001b[0;32m    207\u001b[0m                     \u001b[1;34m\"conflicting sizes for dimension %r: \"\u001b[0m\u001b[1;33m\u001b[0m\u001b[1;33m\u001b[0m\u001b[0m\n\u001b[0;32m    208\u001b[0m                     \u001b[1;34m\"length %s on %r and length %s on %r\"\u001b[0m\u001b[1;33m\u001b[0m\u001b[1;33m\u001b[0m\u001b[0m\n",
      "\u001b[1;31mValueError\u001b[0m: conflicting sizes for dimension 'time': length 30863 on 'time' and length 3088 on 'velocity_east'"
     ]
    }
   ],
   "source": [
    "ds = xr.Dataset(\n",
    "    {\"velocity_east\": ((\"bin\", \"time\"), vel_east),\n",
    "        \"velocity_north\": ((\"bin\", \"time\"), vel_north),\n",
    "        \"velocity_up\": ((\"bin\", \"time\"), vel_up)\n",
    "    },\n",
    "    coords={\n",
    "        \"bin\": bin_num,\n",
    "        \"time\": timestamp,\n",
    "    },\n",
    ")"
   ]
  },
  {
   "cell_type": "code",
   "execution_count": null,
   "id": "swedish-mystery",
   "metadata": {},
   "outputs": [],
   "source": []
  }
 ],
 "metadata": {
  "kernelspec": {
   "display_name": "Python 3",
   "language": "python",
   "name": "python3"
  },
  "language_info": {
   "codemirror_mode": {
    "name": "ipython",
    "version": 3
   },
   "file_extension": ".py",
   "mimetype": "text/x-python",
   "name": "python",
   "nbconvert_exporter": "python",
   "pygments_lexer": "ipython3",
   "version": "3.8.5"
  }
 },
 "nbformat": 4,
 "nbformat_minor": 5
}
