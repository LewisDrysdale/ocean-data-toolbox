{
 "cells": [
  {
   "cell_type": "code",
   "execution_count": null,
   "id": "c77d8d2e-fd6d-408a-8759-741b8c98cf9b",
   "metadata": {},
   "outputs": [],
   "source": [
    "import xarray as xr\n",
    "from scipy.signal import butter, filtfilt"
   ]
  },
  {
   "cell_type": "code",
   "execution_count": null,
   "id": "f258cf2c-b241-4093-ba3b-01efa3f6f17b",
   "metadata": {},
   "outputs": [],
   "source": [
    "# bandpass filter\n",
    "def butter_bandpass(lowcut, highcut, fs, order=1):\n",
    "    nyq = 0.5 * fs\n",
    "    low = lowcut / nyq\n",
    "    high = highcut / nyq\n",
    "    b, a = butter(order, [low, high], btype='band')\n",
    "    return b, a\n",
    "\n",
    "def butter_lowpass(lowcut, fs, order=4):\n",
    "    nyq = 0.5 * fs\n",
    "    low = lowcut / nyq\n",
    "    b, a = butter(order, low, btype='low')\n",
    "    return b, a\n",
    "\n",
    "\n",
    "def butter_bandpass_filter(data, lowcut, highcut, fs, order=1):\n",
    "    b, a = butter_bandpass(lowcut, highcut, fs, order=order)\n",
    "    y = filtfilt(b, a, data,method='gust')\n",
    "    return y\n",
    "\n",
    "def butter_lowpass_filter(data, lowcut, fs, order=4):\n",
    "    b, a = butter_lowpass(lowcut,  fs, order=order)\n",
    "    y = filtfilt(b, a, data,method='gust')\n",
    "    return y\n",
    "\n",
    "def lazy_butter_bp_filter(data, lowcut, highcut, fs,dim='time_counter'):\n",
    "    y = xr.apply_ufunc(\n",
    "        butter_bandpass_filter,\n",
    "        data, lowcut, highcut, fs,\n",
    "        input_core_dims=[[dim],[],[],[]],\n",
    "        output_core_dims=[[dim]],\n",
    "        dask='parallelized')\n",
    "    return y\n",
    "\n",
    "\n",
    "def lazy_butter_lp_filter(data, lowcut, fs,dim='time_counter'):\n",
    "    y = xr.apply_ufunc(\n",
    "        butter_lowpass_filter,\n",
    "        data, lowcut, fs,\n",
    "        input_core_dims=[[dim],[],[]],\n",
    "        output_core_dims=[[dim]],\n",
    "        dask='parallelized')\n",
    "    return y"
   ]
  },
  {
   "cell_type": "code",
   "execution_count": null,
   "id": "c0b54e1b-14a5-437c-93f8-934f3efb5db5",
   "metadata": {},
   "outputs": [],
   "source": [
    "#low pass filter\n",
    "filter_length = 90; # 90 days \n",
    "dt = 0.5 # twice per day, time step of sampling in days\n",
    "fs = 1/dt # sample rate (1/day)\n",
    "lowcut = 1/filter_length # cut off frequency\n",
    "with xr.set_options(keep_attrs=True):\n",
    "    Q_MB_lp = lazy_butter_lp_filter(Q_MB,lowcut,fs,dim='TIME') "
   ]
  }
 ],
 "metadata": {
  "kernelspec": {
   "display_name": "Python [conda env:py3_std]",
   "language": "python",
   "name": "conda-env-py3_std-py"
  },
  "language_info": {
   "codemirror_mode": {
    "name": "ipython",
    "version": 3
   },
   "file_extension": ".py",
   "mimetype": "text/x-python",
   "name": "python",
   "nbconvert_exporter": "python",
   "pygments_lexer": "ipython3",
   "version": "3.9.1"
  },
  "widgets": {
   "application/vnd.jupyter.widget-state+json": {
    "state": {},
    "version_major": 2,
    "version_minor": 0
   }
  }
 },
 "nbformat": 4,
 "nbformat_minor": 5
}
