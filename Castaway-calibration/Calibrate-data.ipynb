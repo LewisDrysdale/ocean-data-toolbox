{
 "cells": [
  {
   "cell_type": "code",
   "execution_count": null,
   "id": "53616aef-6f3c-4ca5-a584-36e20a4691ea",
   "metadata": {},
   "outputs": [],
   "source": [
    "import os\n",
    "import glob\n",
    "import pandas as pd\n",
    "import matplotlib.pyplot as plt\n",
    "\n",
    "ddir=\n",
    "# sbe19plus data\n",
    "def concat_ascii_data(ddir):\n",
    "    fls=glob.glob(ddir)\n",
    "    # concantenate the dat files\n",
    "    for i,nme in enumerate(fls):\n",
    "        data=pd.read_fwf(nme)\n",
    "        if i==0:\n",
    "            alldata=data\n",
    "        else:\n",
    "            alldata=pd.concat([alldata,data])\n",
    "\n",
    "    alldata=alldata[['Sal00', 'DepSM','PrdM','Tv290C']]\n",
    "    \n",
    "    return alldata\n",
    "\n",
    "concat_ascii_data(ddir)"
   ]
  }
 ],
 "metadata": {
  "kernelspec": {
   "display_name": "Python 3 (ipykernel)",
   "language": "python",
   "name": "python3"
  },
  "language_info": {
   "codemirror_mode": {
    "name": "ipython",
    "version": 3
   },
   "file_extension": ".py",
   "mimetype": "text/x-python",
   "name": "python",
   "nbconvert_exporter": "python",
   "pygments_lexer": "ipython3",
   "version": "3.9.16"
  }
 },
 "nbformat": 4,
 "nbformat_minor": 5
}
